{
 "cells": [
  {
   "cell_type": "code",
   "execution_count": 2,
   "metadata": {},
   "outputs": [],
   "source": [
    "#1.What are the two values of the Boolean data type? How do you write them?"
   ]
  },
  {
   "cell_type": "code",
   "execution_count": 3,
   "metadata": {},
   "outputs": [
    {
     "name": "stdout",
     "output_type": "stream",
     "text": [
      "the two values of boolean data types are :true and false\n"
     ]
    }
   ],
   "source": [
    "print(\"the two values of boolean data types are :true and false\")\n",
    "a= True\n",
    "b= False\n"
   ]
  },
  {
   "cell_type": "code",
   "execution_count": 4,
   "metadata": {},
   "outputs": [],
   "source": [
    "#2. What are the three different types of Boolean operators?"
   ]
  },
  {
   "cell_type": "code",
   "execution_count": 6,
   "metadata": {},
   "outputs": [
    {
     "name": "stdout",
     "output_type": "stream",
     "text": [
      "boolean operators are nothing but logical opertors\n",
      "       three different types of boolean operators are :and , or , not \n"
     ]
    }
   ],
   "source": [
    "print(\"\"\"boolean operators are nothing but logical opertors\n",
    "       three different types of boolean operators are :and , or , not \"\"\")"
   ]
  },
  {
   "cell_type": "code",
   "execution_count": 7,
   "metadata": {},
   "outputs": [],
   "source": [
    "#3. Make a list of each Boolean operator truth tables (i.e. every possible combination of Boolean\n",
    "#values for the operator and what it evaluate )."
   ]
  },
  {
   "cell_type": "code",
   "execution_count": 8,
   "metadata": {},
   "outputs": [
    {
     "name": "stdout",
     "output_type": "stream",
     "text": [
      "\"and\" two conditions must be true to execute true condition\n",
      "true and true = true\n",
      "true and false = false\n"
     ]
    }
   ],
   "source": [
    "print(\"\\\"and\\\" two conditions must be true to execute true condition\")\n",
    "print(\"true and true = true\")\n",
    "print(\"true and false = false\")"
   ]
  },
  {
   "cell_type": "code",
   "execution_count": 9,
   "metadata": {},
   "outputs": [
    {
     "name": "stdout",
     "output_type": "stream",
     "text": [
      "\"or\" any one of the condition must be true to execute the condition as true\n",
      "true or false = true\n",
      "false or true = true\n",
      "false or false = false\n"
     ]
    }
   ],
   "source": [
    "print(\"\\\"or\\\" any one of the condition must be true to execute the condition as true\")\n",
    "print(\"true or false = true\")\n",
    "print(\"false or true = true\")\n",
    "print(\"false or false = false\")"
   ]
  },
  {
   "cell_type": "code",
   "execution_count": 10,
   "metadata": {},
   "outputs": [
    {
     "name": "stdout",
     "output_type": "stream",
     "text": [
      "\"not\"it will return opposite boolean value\n",
      "not true : false\n",
      "not flase: true\n"
     ]
    }
   ],
   "source": [
    "print(\"\\\"not\\\"it will return opposite boolean value\")\n",
    "print(\"not true : false\")\n",
    "print(\"not flase: true\")"
   ]
  },
  {
   "cell_type": "code",
   "execution_count": 14,
   "metadata": {},
   "outputs": [
    {
     "name": "stdout",
     "output_type": "stream",
     "text": [
      "1 False\n",
      "2 False\n",
      "3 True\n",
      "4 False\n",
      "5 False\n",
      "6 True\n"
     ]
    }
   ],
   "source": [
    "#4. What are the values of the following expressions?\n",
    "print(\"1\",(5 > 4) and (3 == 5))\n",
    "\n",
    "print(\"2\",not (5 > 4))\n",
    "print(\"3\",(5 > 4) or (3 == 5))\n",
    "print(\"4\",not ((5 > 4) or (3 == 5)))\n",
    "print(\"5\",(True and True) and (True == False))\n",
    "print(\"6\",(not False) or (not True))"
   ]
  },
  {
   "cell_type": "code",
   "execution_count": 16,
   "metadata": {},
   "outputs": [
    {
     "name": "stdout",
     "output_type": "stream",
     "text": [
      "less then <\n",
      "        greater then >\n",
      "        less then or equal to <=\n",
      "        greater then or equal to =>\n",
      "        equal to ==\n",
      "        not equal to !=\n"
     ]
    }
   ],
   "source": [
    "#5. What are the six comparison operators?\n",
    "print(\"\"\"less then <\n",
    "        greater then >\n",
    "        less then or equal to <=\n",
    "        greater then or equal to =>\n",
    "        equal to ==\n",
    "        not equal to !=\"\"\")"
   ]
  },
  {
   "cell_type": "code",
   "execution_count": 20,
   "metadata": {},
   "outputs": [],
   "source": [
    "#6. How do you tell the difference between the equal to and assignment operators?Describe a\n",
    "#condition and when you would use one."
   ]
  },
  {
   "cell_type": "code",
   "execution_count": 22,
   "metadata": {},
   "outputs": [
    {
     "name": "stdout",
     "output_type": "stream",
     "text": [
      "equal to operator compares two values in programming\n",
      "while assignment operator assign a value to the variable\n",
      "borrow the money from parents\n",
      "23\n"
     ]
    }
   ],
   "source": [
    "print(\"equal to operator compares two values in programming\")\n",
    "print(\"while assignment operator assign a value to the variable\")\n",
    "total_amount=2000\n",
    "expenses = 2400\n",
    "if total_amount == expenses:\n",
    "    print(\"you spend all money\")\n",
    "else:\n",
    "    print(\"borrow the money from parents\")\n",
    "#assinging value to the variable\n",
    "c = 23\n",
    "print(c)"
   ]
  },
  {
   "cell_type": "code",
   "execution_count": 26,
   "metadata": {},
   "outputs": [
    {
     "name": "stdout",
     "output_type": "stream",
     "text": [
      "spam\n"
     ]
    }
   ],
   "source": [
    "#7. Identify the three blocks in this code:\n",
    "\n",
    "\n",
    "spam = 0\n",
    "if spam == 10:\n",
    "    print(\"eggs\") #first block\n",
    "    if spam>5:\n",
    "        print('bacon') #second block\n",
    "    else:\n",
    "        print('ham') #third block\n",
    "    print('spam')\n",
    "print('spam')"
   ]
  },
  {
   "cell_type": "code",
   "execution_count": 27,
   "metadata": {},
   "outputs": [
    {
     "name": "stdout",
     "output_type": "stream",
     "text": [
      "enter any number3\n",
      "Greetings\n"
     ]
    }
   ],
   "source": [
    "#8. Write code that prints Hello if 1 is stored in spam, prints Howdy if 2 is stored in spam, and prints\n",
    "#Greetings! if anything else is stored in spam.\n",
    "spam = int(input(\"enter any number\"))\n",
    "if spam==1:\n",
    "    print(\"Hello\")\n",
    "elif spam==2:\n",
    "    print(\"howdy\")\n",
    "else:\n",
    "    print(\"Greetings\")"
   ]
  },
  {
   "cell_type": "code",
   "execution_count": 28,
   "metadata": {},
   "outputs": [
    {
     "name": "stdout",
     "output_type": "stream",
     "text": [
      "to terminate from end les loop we pess CTRL+C\n"
     ]
    }
   ],
   "source": [
    "#9.If your programme is stuck in an endless loop, what keys you’ll press?\n",
    "print(\"to terminate from end les loop we pess CTRL+C\")"
   ]
  },
  {
   "cell_type": "code",
   "execution_count": 29,
   "metadata": {},
   "outputs": [
    {
     "name": "stdout",
     "output_type": "stream",
     "text": [
      "break statement terminate from the loop\n",
      "continue statement start next iteration\n"
     ]
    }
   ],
   "source": [
    "#10. How can you tell the difference between break and continue?\n",
    "print(\"break statement terminate from the loop\")\n",
    "print(\"continue statement start next iteration\")"
   ]
  },
  {
   "cell_type": "code",
   "execution_count": 32,
   "metadata": {},
   "outputs": [
    {
     "name": "stdout",
     "output_type": "stream",
     "text": [
      "range(start:stop:step)\n",
      "range(10) we given end value\n",
      "range(0,10) we given start value and end value\n",
      "range(0,10,1) we given start ,end value and step value\n"
     ]
    }
   ],
   "source": [
    "#11. In a for loop, what is the difference between range(10), range(0, 10), and range(0, 10, 1)?\n",
    "\n",
    "print(\"range(start:stop:step)\")\n",
    "print(\"range(10) we given end value\")\n",
    "print(\"range(0,10) we given start value and end value\")\n",
    "print(\"range(0,10,1) we given start ,end value and step value\")"
   ]
  },
  {
   "cell_type": "code",
   "execution_count": 34,
   "metadata": {},
   "outputs": [
    {
     "name": "stdout",
     "output_type": "stream",
     "text": [
      "1\n",
      "2\n",
      "3\n",
      "4\n",
      "5\n",
      "6\n",
      "7\n",
      "8\n",
      "9\n",
      "10\n"
     ]
    }
   ],
   "source": [
    "#12. Write a short program that prints the numbers 1 to 10 using a for loop. Then write an equivalent\n",
    "#program that prints the numbers 1 to 10 using a while loop.\n",
    "for i in range(1,11):\n",
    "    print(i)\n",
    "while i<10:\n",
    "    print(i)\n",
    "    i=i+1"
   ]
  },
  {
   "cell_type": "code",
   "execution_count": null,
   "metadata": {},
   "outputs": [],
   "source": [
    "#13. If you had a function named bacon() inside a module named spam, how would you call it after\n",
    "#importing spam?\n",
    "import spam\n",
    "spam.bacon()"
   ]
  }
 ],
 "metadata": {
  "kernelspec": {
   "display_name": "Python 3",
   "language": "python",
   "name": "python3"
  },
  "language_info": {
   "codemirror_mode": {
    "name": "ipython",
    "version": 3
   },
   "file_extension": ".py",
   "mimetype": "text/x-python",
   "name": "python",
   "nbconvert_exporter": "python",
   "pygments_lexer": "ipython3",
   "version": "3.7.6"
  }
 },
 "nbformat": 4,
 "nbformat_minor": 4
}
